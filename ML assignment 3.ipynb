{
 "cells": [
  {
   "cell_type": "code",
   "execution_count": 13,
   "id": "204530c5-f5be-49ae-b9e1-88e5bc08cd5a",
   "metadata": {},
   "outputs": [],
   "source": [
    "# Step 1: Import necessary libraries\n",
    "import pandas as pd\n",
    "import numpy as np\n",
    "from sklearn.datasets import fetch_california_housing\n",
    "from sklearn.preprocessing import StandardScaler"
   ]
  },
  {
   "cell_type": "code",
   "execution_count": 11,
   "id": "8a0d641e-678d-400b-9f42-81f5db163e98",
   "metadata": {},
   "outputs": [],
   "source": [
    "# Step 2: Load the California Housing dataset\n",
    "\n",
    "housing = fetch_california_housing()\n"
   ]
  },
  {
   "cell_type": "code",
   "execution_count": 15,
   "id": "c82f6485-9781-44b6-9f0c-a8a952e2bdf1",
   "metadata": {},
   "outputs": [],
   "source": [
    "# Step 3: Convert to pandas DataFrame\n",
    "\n",
    "df = pd.DataFrame(housing.data, columns=housing.feature_names)\n",
    "df['MedHouseVal'] = housing.target  # Adding the target column\n"
   ]
  },
  {
   "cell_type": "code",
   "execution_count": 23,
   "id": "39647154-38bd-4c15-847e-3cbfa245fc9f",
   "metadata": {},
   "outputs": [
    {
     "name": "stdout",
     "output_type": "stream",
     "text": [
      "Missing values in each column:\n",
      " MedInc         0\n",
      "HouseAge       0\n",
      "AveRooms       0\n",
      "AveBedrms      0\n",
      "Population     0\n",
      "AveOccup       0\n",
      "Latitude       0\n",
      "Longitude      0\n",
      "MedHouseVal    0\n",
      "dtype: int64\n"
     ]
    }
   ],
   "source": [
    "# Step 4: Check for missing values\n",
    "\n",
    "missing_values = df.isnull().sum()\n",
    "print(\"Missing values in each column:\\n\", missing_values)\n",
    "\n"
   ]
  },
  {
   "cell_type": "code",
   "execution_count": null,
   "id": "57156d42-b35d-42a7-978c-f485dc346aa6",
   "metadata": {},
   "outputs": [],
   "source": [
    "#there is no missing values in california dataset"
   ]
  },
  {
   "cell_type": "code",
   "execution_count": 17,
   "id": "940fa7c9-4fc4-4f70-aba1-f10f020e193f",
   "metadata": {},
   "outputs": [],
   "source": [
    "# Step 5: Feature Scaling (Standardization)\n",
    "\n",
    "scaler = StandardScaler()\n",
    "features = df.drop('MedHouseVal', axis=1)\n",
    "scaled_features = scaler.fit_transform(features)"
   ]
  },
  {
   "cell_type": "code",
   "execution_count": 19,
   "id": "a1872b68-66db-4c41-8228-9397e7f6618e",
   "metadata": {},
   "outputs": [],
   "source": [
    "# Create a new DataFrame for scaled features\n",
    "scaled_df = pd.DataFrame(scaled_features, columns=features.columns)\n",
    "scaled_df['MedHouseVal'] = df['MedHouseVal'].values  # Append the target back"
   ]
  },
  {
   "cell_type": "code",
   "execution_count": 25,
   "id": "fb19ce67-37ac-4190-b94e-231aa7009fe0",
   "metadata": {},
   "outputs": [
    {
     "data": {
      "text/html": [
       "<div>\n",
       "<style scoped>\n",
       "    .dataframe tbody tr th:only-of-type {\n",
       "        vertical-align: middle;\n",
       "    }\n",
       "\n",
       "    .dataframe tbody tr th {\n",
       "        vertical-align: top;\n",
       "    }\n",
       "\n",
       "    .dataframe thead th {\n",
       "        text-align: right;\n",
       "    }\n",
       "</style>\n",
       "<table border=\"1\" class=\"dataframe\">\n",
       "  <thead>\n",
       "    <tr style=\"text-align: right;\">\n",
       "      <th></th>\n",
       "      <th>MedInc</th>\n",
       "      <th>HouseAge</th>\n",
       "      <th>AveRooms</th>\n",
       "      <th>AveBedrms</th>\n",
       "      <th>Population</th>\n",
       "      <th>AveOccup</th>\n",
       "      <th>Latitude</th>\n",
       "      <th>Longitude</th>\n",
       "      <th>MedHouseVal</th>\n",
       "    </tr>\n",
       "  </thead>\n",
       "  <tbody>\n",
       "    <tr>\n",
       "      <th>0</th>\n",
       "      <td>2.344766</td>\n",
       "      <td>0.982143</td>\n",
       "      <td>0.628559</td>\n",
       "      <td>-0.153758</td>\n",
       "      <td>-0.974429</td>\n",
       "      <td>-0.049597</td>\n",
       "      <td>1.052548</td>\n",
       "      <td>-1.327835</td>\n",
       "      <td>4.526</td>\n",
       "    </tr>\n",
       "    <tr>\n",
       "      <th>1</th>\n",
       "      <td>2.332238</td>\n",
       "      <td>-0.607019</td>\n",
       "      <td>0.327041</td>\n",
       "      <td>-0.263336</td>\n",
       "      <td>0.861439</td>\n",
       "      <td>-0.092512</td>\n",
       "      <td>1.043185</td>\n",
       "      <td>-1.322844</td>\n",
       "      <td>3.585</td>\n",
       "    </tr>\n",
       "    <tr>\n",
       "      <th>2</th>\n",
       "      <td>1.782699</td>\n",
       "      <td>1.856182</td>\n",
       "      <td>1.155620</td>\n",
       "      <td>-0.049016</td>\n",
       "      <td>-0.820777</td>\n",
       "      <td>-0.025843</td>\n",
       "      <td>1.038503</td>\n",
       "      <td>-1.332827</td>\n",
       "      <td>3.521</td>\n",
       "    </tr>\n",
       "    <tr>\n",
       "      <th>3</th>\n",
       "      <td>0.932968</td>\n",
       "      <td>1.856182</td>\n",
       "      <td>0.156966</td>\n",
       "      <td>-0.049833</td>\n",
       "      <td>-0.766028</td>\n",
       "      <td>-0.050329</td>\n",
       "      <td>1.038503</td>\n",
       "      <td>-1.337818</td>\n",
       "      <td>3.413</td>\n",
       "    </tr>\n",
       "    <tr>\n",
       "      <th>4</th>\n",
       "      <td>-0.012881</td>\n",
       "      <td>1.856182</td>\n",
       "      <td>0.344711</td>\n",
       "      <td>-0.032906</td>\n",
       "      <td>-0.759847</td>\n",
       "      <td>-0.085616</td>\n",
       "      <td>1.038503</td>\n",
       "      <td>-1.337818</td>\n",
       "      <td>3.422</td>\n",
       "    </tr>\n",
       "  </tbody>\n",
       "</table>\n",
       "</div>"
      ],
      "text/plain": [
       "     MedInc  HouseAge  AveRooms  AveBedrms  Population  AveOccup  Latitude  \\\n",
       "0  2.344766  0.982143  0.628559  -0.153758   -0.974429 -0.049597  1.052548   \n",
       "1  2.332238 -0.607019  0.327041  -0.263336    0.861439 -0.092512  1.043185   \n",
       "2  1.782699  1.856182  1.155620  -0.049016   -0.820777 -0.025843  1.038503   \n",
       "3  0.932968  1.856182  0.156966  -0.049833   -0.766028 -0.050329  1.038503   \n",
       "4 -0.012881  1.856182  0.344711  -0.032906   -0.759847 -0.085616  1.038503   \n",
       "\n",
       "   Longitude  MedHouseVal  \n",
       "0  -1.327835        4.526  \n",
       "1  -1.322844        3.585  \n",
       "2  -1.332827        3.521  \n",
       "3  -1.337818        3.413  \n",
       "4  -1.337818        3.422  "
      ]
     },
     "execution_count": 25,
     "metadata": {},
     "output_type": "execute_result"
    }
   ],
   "source": [
    "scaled_df.head()\n"
   ]
  },
  {
   "cell_type": "code",
   "execution_count": null,
   "id": "45d56cb1-038d-45de-9066-820db408f691",
   "metadata": {},
   "outputs": [],
   "source": [
    "# 1.     explanations for, Loading the data set\n",
    "# fetch_california_housing() retrieves a clean and well-structured dataset from sklearn.datasets.\n",
    "\n",
    "\n",
    "# 2.    conversion tyo dataframe\n",
    "# Easier to handle using pandas because it offers powerful functions for data exploration, visualization, and manipulation.\n",
    "\n",
    "#3.    handling the missing values\n",
    "# checking the missing value is the best practice.\n",
    "\n",
    "# feature scaling standardization\n",
    "# Many machine learning algorithms (e.g., linear regression, k-NN, SVM) assume features are on the same scale.\n",
    "#Standardization ((x - mean) / std) centers features around zero with unit variance, improving model performance and convergence."
   ]
  },
  {
   "cell_type": "code",
   "execution_count": null,
   "id": "bfb05fbd-7901-491e-afc5-d5eca8734ce4",
   "metadata": {},
   "outputs": [],
   "source": [
    "# Qn 2"
   ]
  },
  {
   "cell_type": "code",
   "execution_count": 27,
   "id": "23304d70-4d0b-4c00-9f86-e63f97ae1132",
   "metadata": {},
   "outputs": [],
   "source": [
    "# Step 1: Import regression models and metrics\n",
    "\n",
    "from sklearn.linear_model import LinearRegression\n",
    "from sklearn.tree import DecisionTreeRegressor\n",
    "from sklearn.ensemble import RandomForestRegressor, GradientBoostingRegressor\n",
    "from sklearn.svm import SVR\n",
    "from sklearn.metrics import mean_squared_error, r2_score\n",
    "from sklearn.model_selection import train_test_split"
   ]
  },
  {
   "cell_type": "code",
   "execution_count": 29,
   "id": "1fc9a216-fbde-4a7e-bb43-500e18d341b6",
   "metadata": {},
   "outputs": [],
   "source": [
    "# Step 2: Split the data\n",
    "\n",
    "X = scaled_df.drop('MedHouseVal', axis=1)\n",
    "y = scaled_df['MedHouseVal']\n",
    "X_train, X_test, y_train, y_test = train_test_split(X, y, test_size=0.2, random_state=42)\n"
   ]
  },
  {
   "cell_type": "code",
   "execution_count": 31,
   "id": "60af705e-1ab7-4e66-aeb2-ac663e8571a5",
   "metadata": {},
   "outputs": [],
   "source": [
    "# Step 3: Define models\n",
    "\n",
    "models = {\n",
    "    'Linear Regression': LinearRegression(),\n",
    "    'Decision Tree': DecisionTreeRegressor(random_state=42),\n",
    "    'Random Forest': RandomForestRegressor(n_estimators=100, random_state=42),\n",
    "    'Gradient Boosting': GradientBoostingRegressor(n_estimators=100, random_state=42),\n",
    "    'Support Vector Regressor': SVR()\n",
    "}"
   ]
  },
  {
   "cell_type": "code",
   "execution_count": 33,
   "id": "fb9667a5-a8ff-4f09-8943-84cdc4d85c3d",
   "metadata": {},
   "outputs": [
    {
     "name": "stdout",
     "output_type": "stream",
     "text": [
      "\n",
      "Linear Regression\n",
      "Mean Squared Error: 0.5559\n",
      "R^2 Score: 0.5758\n",
      "\n",
      "Decision Tree\n",
      "Mean Squared Error: 0.4943\n",
      "R^2 Score: 0.6228\n",
      "\n",
      "Random Forest\n",
      "Mean Squared Error: 0.2555\n",
      "R^2 Score: 0.8050\n",
      "\n",
      "Gradient Boosting\n",
      "Mean Squared Error: 0.2940\n",
      "R^2 Score: 0.7756\n",
      "\n",
      "Support Vector Regressor\n",
      "Mean Squared Error: 0.3552\n",
      "R^2 Score: 0.7289\n"
     ]
    }
   ],
   "source": [
    "# Step 4: Train and evaluate each model\n",
    "\n",
    "for name, model in models.items():\n",
    "    model.fit(X_train, y_train)\n",
    "    preds = model.predict(X_test)\n",
    "    mse = mean_squared_error(y_test, preds)\n",
    "    r2 = r2_score(y_test, preds)\n",
    "    print(f\"\\n{name}\")\n",
    "    print(f\"Mean Squared Error: {mse:.4f}\")\n",
    "    print(f\"R^2 Score: {r2:.4f}\")"
   ]
  },
  {
   "cell_type": "code",
   "execution_count": 35,
   "id": "8a0add3f-5f5e-494f-8242-d924a0e36396",
   "metadata": {},
   "outputs": [],
   "source": [
    "# EXPLANATIONS\n",
    "#  Linear Regression\n",
    "#How it works: Fits a straight line that minimizes the sum of squared differences between actual and predicted values.\n",
    "\n",
    "#Suitability: Good baseline for regression tasks. Simple and interpretable. May underperform on complex relationships.\n",
    "\n",
    "\n",
    "#Decision Tree Regressor\n",
    "#How it works: Splits the data into regions using decision rules (based on feature thresholds), fitting a constant value in each region.\n",
    "\n",
    "#Suitability: Handles non-linear relationships and doesn’t require feature scaling. Prone to overfitting on small datasets but works well here with tuning.\n",
    "\n",
    "\n",
    "#Random Forest Regressor\n",
    "#How it works: An ensemble of decision trees trained on different random subsets of the data. Final prediction is the average of all tree predictions.\n",
    "\n",
    "#Suitability: Reduces overfitting, handles non-linearities and interactions well. Great general-purpose model for structured/tabular data like housing prices.\n",
    "\n",
    "\n",
    "# Gradient Boosting Regressor\n",
    "#How it works: Builds an ensemble of trees sequentially, where each new tree tries to correct the errors of the previous one.\n",
    "\n",
    "#Suitability: More accurate than random forests in many cases but also more sensitive to parameters. Ideal for capturing complex patterns.\n",
    "\n",
    "\n",
    "# Support Vector Regressor (SVR)\n",
    "#How it works: Tries to fit the best line (or curve) such that most data points lie within a certain margin (epsilon). Uses kernel tricks for non-linearity.\n",
    "\n",
    "#Suitability: Works well with small-to-medium datasets and high-dimensional feature spaces. Needs feature scaling, which we've already done.\n",
    "\n",
    "\n",
    "\n"
   ]
  },
  {
   "cell_type": "code",
   "execution_count": null,
   "id": "b70c632f-e047-4129-8c36-dc4164c4adf4",
   "metadata": {},
   "outputs": [],
   "source": [
    "# Qn 3"
   ]
  },
  {
   "cell_type": "code",
   "execution_count": 37,
   "id": "9126c70a-12e2-4114-b53b-a74b0d2efafe",
   "metadata": {},
   "outputs": [],
   "source": [
    "from sklearn.metrics import mean_absolute_error"
   ]
  },
  {
   "cell_type": "code",
   "execution_count": 45,
   "id": "1ffc4da2-aea8-4671-890d-286a2b36e397",
   "metadata": {},
   "outputs": [
    {
     "name": "stdout",
     "output_type": "stream",
     "text": [
      "\n",
      "Linear Regression\n",
      "Mean Squared Error (MSE): 0.5559\n",
      "Mean Absolute Error (MAE): 0.5332\n",
      "R² Score: 0.5758\n",
      "\n",
      "Decision Tree\n",
      "Mean Squared Error (MSE): 0.4943\n",
      "Mean Absolute Error (MAE): 0.4538\n",
      "R² Score: 0.6228\n",
      "\n",
      "Random Forest\n",
      "Mean Squared Error (MSE): 0.2555\n",
      "Mean Absolute Error (MAE): 0.3276\n",
      "R² Score: 0.8050\n",
      "\n",
      "Gradient Boosting\n",
      "Mean Squared Error (MSE): 0.2940\n",
      "Mean Absolute Error (MAE): 0.3717\n",
      "R² Score: 0.7756\n",
      "\n",
      "Support Vector Regressor\n",
      "Mean Squared Error (MSE): 0.3552\n",
      "Mean Absolute Error (MAE): 0.3978\n",
      "R² Score: 0.7289\n"
     ]
    }
   ],
   "source": [
    "# Initialize results dictionary\n",
    "results = {}\n",
    "\n",
    "# Evaluate all models\n",
    "for name, model in models.items():\n",
    "    model.fit(X_train, y_train)\n",
    "    preds = model.predict(X_test)\n",
    "    \n",
    "    mse = mean_squared_error(y_test, preds)\n",
    "    mae = mean_absolute_error(y_test, preds)\n",
    "    r2 = r2_score(y_test, preds)\n",
    "    \n",
    "    results[name] = {'MSE': mse, 'MAE': mae, 'R²': r2}\n",
    "    print(f\"\\n{name}\")\n",
    "    print(f\"Mean Squared Error (MSE): {mse:.4f}\")\n",
    "    print(f\"Mean Absolute Error (MAE): {mae:.4f}\")\n",
    "    print(f\"R² Score: {r2:.4f}\")"
   ]
  },
  {
   "cell_type": "code",
   "execution_count": 47,
   "id": "b7bceaf9-d361-4c9a-894d-e0dfc82423eb",
   "metadata": {},
   "outputs": [],
   "source": [
    "# Best-Performing Algorithm: Random Forest Regressor\n",
    "# Justification:\n",
    "#  Achieves the lowest MSE and MAE, and highest R² score.\n",
    "\n",
    " # Robust to overfitting due to ensemble averaging.\n",
    "\n",
    "# Captures complex, non-linear relationships in the housing data effectively.\n",
    "\n",
    "\n",
    "\n",
    " # Worst-Performing Algorithm: Linear Regression\n",
    "# Reasoning:\n",
    "# Highest MSE and lowest R² score.\n",
    "\n",
    "# Assumes a linear relationship between features and target, which is too simplistic for housing data.\n",
    "\n",
    "# Doesn’t capture interactions or non-linearities well.\n",
    "\n"
   ]
  },
  {
   "cell_type": "code",
   "execution_count": null,
   "id": "a2ad0d19-dfb2-4e3b-9368-151c6d76cb68",
   "metadata": {},
   "outputs": [],
   "source": []
  }
 ],
 "metadata": {
  "kernelspec": {
   "display_name": "Python [conda env:base] *",
   "language": "python",
   "name": "conda-base-py"
  },
  "language_info": {
   "codemirror_mode": {
    "name": "ipython",
    "version": 3
   },
   "file_extension": ".py",
   "mimetype": "text/x-python",
   "name": "python",
   "nbconvert_exporter": "python",
   "pygments_lexer": "ipython3",
   "version": "3.12.7"
  }
 },
 "nbformat": 4,
 "nbformat_minor": 5
}
